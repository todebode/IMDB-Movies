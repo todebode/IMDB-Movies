{
 "cells": [
  {
   "cell_type": "code",
   "execution_count": 1,
   "id": "fa38ad4b",
   "metadata": {},
   "outputs": [],
   "source": [
    "# Standard Imports\n",
    "import numpy as np\n",
    "import pandas as pd\n",
    "import matplotlib.pyplot as plt\n",
    "import seaborn as sns\n",
    "# Additional Imports\n",
    "import os, json, math, time\n",
    "from yelpapi import YelpAPI\n",
    "from tqdm.notebook import tqdm_notebook"
   ]
  },
  {
   "cell_type": "markdown",
   "id": "f1c80f52",
   "metadata": {},
   "source": [
    "# BEFORE THE LOOPS"
   ]
  },
  {
   "cell_type": "markdown",
   "id": "d585aa07",
   "metadata": {},
   "source": [
    "## Designate a folder\n",
    "\n",
    "You will save API call data in the data folder you created for project part 1"
   ]
  },
  {
   "cell_type": "code",
   "execution_count": 2,
   "id": "68287bc7",
   "metadata": {},
   "outputs": [
    {
     "data": {
      "text/plain": [
       "['akas.csv.gz', 'basics.csv.gz', 'ratings.csv.gz']"
      ]
     },
     "execution_count": 2,
     "metadata": {},
     "output_type": "execute_result"
    }
   ],
   "source": [
    "import os\n",
    "FOLDER = \"Data/\"\n",
    "os.makedirs(FOLDER, exist_ok=True)\n",
    "os.listdir(FOLDER)"
   ]
  },
  {
   "cell_type": "markdown",
   "id": "0aa3816a",
   "metadata": {},
   "source": [
    "# Start INNER Loop\n",
    "\n",
    "### Use a Function to append new results to the existing JSON file\n",
    "\n",
    "This is a function adapted from: https://www.geeksforgeeks.org/append-to-json-file-using-python/\n",
    "\n",
    "Make sure you define and run any functions you plan to use in your for-loop prior to running the loop!"
   ]
  },
  {
   "cell_type": "code",
   "execution_count": 14,
   "id": "ef2b3fa3",
   "metadata": {},
   "outputs": [],
   "source": [
    "def write_json(new_data, filename): \n",
    "    \"\"\"Adapted from: https://www.geeksforgeeks.org/append-to-json-file-using-python/\"\"\"    \n",
    "    \n",
    "    with open(filename,'r+') as file:\n",
    "        # First we load existing data into a dict.\n",
    "        file_data = json.load(file)\n",
    "        ## Choose extend or append\n",
    "        if (type(new_data) == list) & (type(file_data) == list):\n",
    "            file_data.extend(new_data)\n",
    "        else:\n",
    "             file_data.append(new_data)\n",
    "        # Sets file's current position at offset.\n",
    "        file.seek(0)\n",
    "        # convert back to json.\n",
    "        json.dump(file_data, file)"
   ]
  },
  {
   "cell_type": "code",
   "execution_count": 9,
   "id": "ed6c4cbd",
   "metadata": {},
   "outputs": [
    {
     "data": {
      "text/html": [
       "<div>\n",
       "<style scoped>\n",
       "    .dataframe tbody tr th:only-of-type {\n",
       "        vertical-align: middle;\n",
       "    }\n",
       "\n",
       "    .dataframe tbody tr th {\n",
       "        vertical-align: top;\n",
       "    }\n",
       "\n",
       "    .dataframe thead th {\n",
       "        text-align: right;\n",
       "    }\n",
       "</style>\n",
       "<table border=\"1\" class=\"dataframe\">\n",
       "  <thead>\n",
       "    <tr style=\"text-align: right;\">\n",
       "      <th></th>\n",
       "      <th>tconst</th>\n",
       "      <th>titleType</th>\n",
       "      <th>primaryTitle</th>\n",
       "      <th>originalTitle</th>\n",
       "      <th>isAdult</th>\n",
       "      <th>startYear</th>\n",
       "      <th>endYear</th>\n",
       "      <th>runtimeMinutes</th>\n",
       "      <th>genres</th>\n",
       "    </tr>\n",
       "  </thead>\n",
       "  <tbody>\n",
       "    <tr>\n",
       "      <th>0</th>\n",
       "      <td>tt0011801</td>\n",
       "      <td>movie</td>\n",
       "      <td>Tötet nicht mehr</td>\n",
       "      <td>Tötet nicht mehr</td>\n",
       "      <td>0</td>\n",
       "      <td>2019</td>\n",
       "      <td>NaN</td>\n",
       "      <td>NaN</td>\n",
       "      <td>Action,Crime</td>\n",
       "    </tr>\n",
       "    <tr>\n",
       "      <th>1</th>\n",
       "      <td>tt0015414</td>\n",
       "      <td>movie</td>\n",
       "      <td>La tierra de los toros</td>\n",
       "      <td>La tierra de los toros</td>\n",
       "      <td>0</td>\n",
       "      <td>2000</td>\n",
       "      <td>NaN</td>\n",
       "      <td>60.0</td>\n",
       "      <td>NaN</td>\n",
       "    </tr>\n",
       "    <tr>\n",
       "      <th>2</th>\n",
       "      <td>tt0079644</td>\n",
       "      <td>movie</td>\n",
       "      <td>November 1828</td>\n",
       "      <td>November 1828</td>\n",
       "      <td>0</td>\n",
       "      <td>2001</td>\n",
       "      <td>NaN</td>\n",
       "      <td>140.0</td>\n",
       "      <td>Drama,War</td>\n",
       "    </tr>\n",
       "    <tr>\n",
       "      <th>3</th>\n",
       "      <td>tt0083060</td>\n",
       "      <td>movie</td>\n",
       "      <td>The Drive to Win</td>\n",
       "      <td>Sha Ou</td>\n",
       "      <td>0</td>\n",
       "      <td>2019</td>\n",
       "      <td>NaN</td>\n",
       "      <td>NaN</td>\n",
       "      <td>Drama,Sport</td>\n",
       "    </tr>\n",
       "    <tr>\n",
       "      <th>4</th>\n",
       "      <td>tt0089067</td>\n",
       "      <td>movie</td>\n",
       "      <td>El día de los albañiles 2</td>\n",
       "      <td>El día de los albañiles 2</td>\n",
       "      <td>0</td>\n",
       "      <td>2001</td>\n",
       "      <td>NaN</td>\n",
       "      <td>90.0</td>\n",
       "      <td>Comedy</td>\n",
       "    </tr>\n",
       "  </tbody>\n",
       "</table>\n",
       "</div>"
      ],
      "text/plain": [
       "      tconst titleType               primaryTitle              originalTitle  \\\n",
       "0  tt0011801     movie           Tötet nicht mehr           Tötet nicht mehr   \n",
       "1  tt0015414     movie     La tierra de los toros     La tierra de los toros   \n",
       "2  tt0079644     movie              November 1828              November 1828   \n",
       "3  tt0083060     movie           The Drive to Win                     Sha Ou   \n",
       "4  tt0089067     movie  El día de los albañiles 2  El día de los albañiles 2   \n",
       "\n",
       "   isAdult  startYear  endYear  runtimeMinutes        genres  \n",
       "0        0       2019      NaN             NaN  Action,Crime  \n",
       "1        0       2000      NaN            60.0           NaN  \n",
       "2        0       2001      NaN           140.0     Drama,War  \n",
       "3        0       2019      NaN             NaN   Drama,Sport  \n",
       "4        0       2001      NaN            90.0        Comedy  "
      ]
     },
     "execution_count": 9,
     "metadata": {},
     "output_type": "execute_result"
    }
   ],
   "source": [
    "# Load in the dataframe from project part 1 as basics:\n",
    "basics = pd.read_csv('Data/basics.csv.gz')\n",
    "basics.head()"
   ]
  },
  {
   "cell_type": "code",
   "execution_count": 3,
   "id": "cccbf088",
   "metadata": {},
   "outputs": [],
   "source": [
    "YEARS_TO_GET = [2000,2001]"
   ]
  },
  {
   "cell_type": "markdown",
   "id": "27fdf629",
   "metadata": {},
   "source": [
    "# Start OUTER loop\n",
    "\n",
    "## Set up Progress Bar\n",
    "\n",
    "We want to keep track of our progress and ensure our calls are working.  The progress bar works within the for statement of the for loop.  Note that this will iterate through each year that is defined in the YEARS_TO_GET variable."
   ]
  },
  {
   "cell_type": "code",
   "execution_count": 4,
   "id": "dedda2b1",
   "metadata": {},
   "outputs": [
    {
     "data": {
      "text/plain": [
       "2000"
      ]
     },
     "execution_count": 4,
     "metadata": {},
     "output_type": "execute_result"
    }
   ],
   "source": [
    "YEAR = YEARS_TO_GET[0]\n",
    "YEAR"
   ]
  },
  {
   "cell_type": "code",
   "execution_count": 5,
   "id": "b0925fe2",
   "metadata": {},
   "outputs": [
    {
     "ename": "SyntaxError",
     "evalue": "unexpected EOF while parsing (1380708193.py, line 2)",
     "output_type": "error",
     "traceback": [
      "\u001b[1;36m  File \u001b[1;32m\"C:\\Users\\tijes\\AppData\\Local\\Temp\\ipykernel_4640\\1380708193.py\"\u001b[1;36m, line \u001b[1;32m2\u001b[0m\n\u001b[1;33m    for YEAR in tqdm_notebook(YEARS_TO_GET,desc='YEARS',position=0):\u001b[0m\n\u001b[1;37m                                                                    ^\u001b[0m\n\u001b[1;31mSyntaxError\u001b[0m\u001b[1;31m:\u001b[0m unexpected EOF while parsing\n"
     ]
    }
   ],
   "source": [
    "# Start of OUTaER loop\n",
    "for YEAR in tqdm_notebook(YEARS_TO_GET,desc='YEARS',position=0):"
   ]
  },
  {
   "cell_type": "markdown",
   "id": "5fbde582",
   "metadata": {},
   "source": [
    "## Select a JSON_FILE filename to save the results in progress.\n",
    "\n",
    "Check if the file exists.\n",
    "- if no:\n",
    "\n",
    "Create the empty JSON file with with open that just contains the key \"imdb_id\"\n",
    "\n",
    "- if yes:\n",
    "Do nothing.\n",
    "\n",
    "First, define the file path and names:  We are going to have multiple files since we are creating a separate file for each year.  The code below will identify the folder in the FOLDER we just define above and will name the file based on the current year. "
   ]
  },
  {
   "cell_type": "code",
   "execution_count": 6,
   "id": "b95c7a80",
   "metadata": {},
   "outputs": [],
   "source": [
    "#Defining the JSON file to store results for year\n",
    "JSON_FILE = f'{FOLDER}tmdb_api_results_{YEAR}.json'"
   ]
  },
  {
   "cell_type": "markdown",
   "id": "1ed28255",
   "metadata": {},
   "source": [
    "Check if that file already exists or not."
   ]
  },
  {
   "cell_type": "code",
   "execution_count": 7,
   "id": "11262d12",
   "metadata": {},
   "outputs": [],
   "source": [
    "# Check if file exists\n",
    "file_exists = os.path.isfile(JSON_FILE)"
   ]
  },
  {
   "cell_type": "markdown",
   "id": "34499995",
   "metadata": {},
   "source": [
    "If you are going through this lesson for the first time, it is very unlikely that the file exists! But, if you are at a different point in the project, and it already exists, we don't need to do anything, but just make sure it is a file you want to add to! We\n",
    "\n",
    "The code below will create the file and save an empty dictionary with just imdb_id.  We will be appending to this empty dictionary throughout our calls."
   ]
  },
  {
   "cell_type": "code",
   "execution_count": 8,
   "id": "275b6997",
   "metadata": {},
   "outputs": [],
   "source": [
    "# If it does not exist: create it\n",
    "if file_exists == False:\n",
    "# save an empty dict with just \"imdb_id\" to the new json file.\n",
    "    with open(JSON_FILE,'w') as f:\n",
    "        json.dump([{'imdb_id':0}],f)\n"
   ]
  },
  {
   "cell_type": "markdown",
   "id": "15902638",
   "metadata": {},
   "source": [
    "## Define/filter the IDs to call\n",
    "\n",
    "We are going to break up our data by year, so we will define a new dataframe for each year.  Notice that which YEAR will depend on what we define YEAR as.  Leaving YEAR a variable allows the code to be easier to read and reproduce."
   ]
  },
  {
   "cell_type": "code",
   "execution_count": 11,
   "id": "cb503614",
   "metadata": {},
   "outputs": [
    {
     "data": {
      "text/plain": [
       "1        tt0015414\n",
       "7        tt0102362\n",
       "8        tt0107706\n",
       "12       tt0113086\n",
       "15       tt0116748\n",
       "           ...    \n",
       "91467    tt9465882\n",
       "91514    tt9486348\n",
       "91552    tt9501764\n",
       "92472    tt9797592\n",
       "92578    tt9833388\n",
       "Name: tconst, Length: 2292, dtype: object"
      ]
     },
     "execution_count": 11,
     "metadata": {},
     "output_type": "execute_result"
    }
   ],
   "source": [
    "#Saving new year as the current df\n",
    "df = basics.loc[ basics['startYear']==YEAR].copy()\n",
    "# saving movie ids to list\n",
    "movie_ids = df['tconst'].copy()#.to_list()\n",
    "movie_ids"
   ]
  },
  {
   "cell_type": "markdown",
   "id": "ccb636cd",
   "metadata": {},
   "source": [
    "## Check for and remove any previously downloaded Movie id's\n",
    "\n"
   ]
  },
  {
   "cell_type": "code",
   "execution_count": 12,
   "id": "b614486c",
   "metadata": {},
   "outputs": [],
   "source": [
    "# Load existing data from json into a dataframe called \"previous_df\"\n",
    "previous_df = pd.read_json(JSON_FILE)"
   ]
  },
  {
   "cell_type": "markdown",
   "id": "6fbb637d",
   "metadata": {},
   "source": [
    "### Check for and filter out movie IDs that already exist\n",
    "\n",
    "The next line of code will prevent you from wasting API calls on data you already have.  Note that it is defining the ids you are calling in such a way that it excludes any ids that are already present in the previous_df. You may recall that this will also allow you to \"pick up where you left off\" if your API call gets interrupted."
   ]
  },
  {
   "cell_type": "code",
   "execution_count": 13,
   "id": "d13e413b",
   "metadata": {},
   "outputs": [],
   "source": [
    "# filter out any ids that are already in the JSON_FILE\n",
    "movie_ids_to_get = movie_ids[~movie_ids.isin(previous_df['imdb_id'])]"
   ]
  },
  {
   "cell_type": "markdown",
   "id": "e49e240a",
   "metadata": {},
   "source": [
    "Now we have defined the \"movie_ids_to_get\". It includes the ids from our dataframe in the year we are seeking, and it excludes any that we have already made calls for. \n",
    "\n",
    "We will use this list for our inner loop of API calls."
   ]
  },
  {
   "cell_type": "markdown",
   "id": "31376ca4",
   "metadata": {},
   "source": [
    "# Iterate through the list of Movie IDs and make the calls\n",
    "\n",
    "The code below relies on the function you wrote in the previous lesson that made API calls and added the certification to the .info results. Here this function is named \"get_movie_with_rating\".  Make sure you the function from the earlier lesson in the code file before you plan to call on it!  This loop also uses the function above (write_json)  to extend/append the results to the .json file. Make sure both functions are defined in your code file before you try to call them!"
   ]
  },
  {
   "cell_type": "code",
   "execution_count": 16,
   "id": "637497dc",
   "metadata": {},
   "outputs": [
    {
     "data": {
      "application/vnd.jupyter.widget-view+json": {
       "model_id": "b7bb41d4bed741979e1605eda90fc7e0",
       "version_major": 2,
       "version_minor": 0
      },
      "text/plain": [
       "Movies from 2000:   0%|          | 0/2292 [00:00<?, ?it/s]"
      ]
     },
     "metadata": {},
     "output_type": "display_data"
    }
   ],
   "source": [
    "#Get index and movie id from list\n",
    "# INNER Loop\n",
    "for movie_id in tqdm_notebook(movie_ids_to_get,\n",
    "                                  desc=f'Movies from {YEAR}',\n",
    "                                  position=1,\n",
    "                                  leave=True):\n",
    "        # Attempt to retrieve then data for the movie id\n",
    "        try:\n",
    "            temp = get_movie_with_rating(movie_id)  #This uses your pre-made function\n",
    "            # Append/extend results to existing file using a pre-made function\n",
    "            write_json(temp,JSON_FILE)\n",
    "            # Short 20 ms sleep to prevent overwhelming server\n",
    "            time.sleep(0.02)\n",
    "            \n",
    "        # If it fails,  make a dict with just the id and None for certification.\n",
    "        except Exception as e:\n",
    "            continue"
   ]
  },
  {
   "cell_type": "markdown",
   "id": "757bcd6a",
   "metadata": {},
   "source": [
    "### Save the year's results as csv.gz file\n",
    "\n",
    "Once all of the API calls for the current year are made, you should open your .json file with pd.read_json and convert each to a compressed csv (\".csv.gz\") to save space. This is done after the inner loop, but within the outer loop."
   ]
  },
  {
   "cell_type": "code",
   "execution_count": 17,
   "id": "f19b4b34",
   "metadata": {},
   "outputs": [],
   "source": [
    "final_year_df = pd.read_json(JSON_FILE)\n",
    "final_year_df.to_csv(f\"{FOLDER}final_tmdb_data_{YEAR}.csv.gz\", compression=\"gzip\", index=False)"
   ]
  },
  {
   "cell_type": "code",
   "execution_count": null,
   "id": "ec76e479",
   "metadata": {},
   "outputs": [],
   "source": []
  }
 ],
 "metadata": {
  "kernelspec": {
   "display_name": "Python (dojo-env)",
   "language": "python",
   "name": "dojo-env"
  },
  "language_info": {
   "codemirror_mode": {
    "name": "ipython",
    "version": 3
   },
   "file_extension": ".py",
   "mimetype": "text/x-python",
   "name": "python",
   "nbconvert_exporter": "python",
   "pygments_lexer": "ipython3",
   "version": "3.7.12"
  },
  "toc": {
   "base_numbering": 1,
   "nav_menu": {},
   "number_sections": false,
   "sideBar": true,
   "skip_h1_title": false,
   "title_cell": "Table of Contents",
   "title_sidebar": "Contents",
   "toc_cell": false,
   "toc_position": {},
   "toc_section_display": true,
   "toc_window_display": false
  }
 },
 "nbformat": 4,
 "nbformat_minor": 5
}
